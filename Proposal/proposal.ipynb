{
 "cells": [
  {
   "cell_type": "markdown",
   "id": "ed6ec0cf",
   "metadata": {},
   "source": [
    "# Final Project Title\n",
    "\n",
    "## Team Members\n",
    "\n",
    "1. Team Member 1 (Full name and Student Number)\n",
    "2. Team Member 2 (Full name and Student Number)\n",
    "\n",
    "## Dataset\n",
    "\n",
    "Here you need explain where the data comes from (with references) and what it contains. \n",
    "\n",
    "\n",
    "## Description of the Problem\n",
    "\n",
    "What do you want to do with the data. The project can't be just \"I want to visualize the data.\" You need to have some questions to ask. Why is the data interesting? What do you want to do with the data? When you're done with the project, what would you have accomplished?\n",
    "\n",
    "## Project Planning\n",
    "\n",
    "\n",
    "### Project Pieces\n",
    "\n",
    "You need to split the project into managible work loads even if you are going to do this on your own. If there are team members, you need to have a division of labour. For example, you may have things like Literature Review, Data Acquisition and Cleaning, Model Construction, Visualization, Analysis etc.\n",
    "\n",
    "### Hardware and Software\n",
    "\n",
    "You need to describe what you are going to use.\n",
    "\n",
    "### Calendar\n",
    "\n",
    "You need to describe the timeline. How long each project piece is going to take."
   ]
  },
  {
   "cell_type": "code",
   "execution_count": null,
   "id": "b63f179b",
   "metadata": {},
   "outputs": [],
   "source": []
  }
 ],
 "metadata": {
  "kernelspec": {
   "display_name": "Python 3 (ipykernel)",
   "language": "python",
   "name": "python3"
  },
  "language_info": {
   "codemirror_mode": {
    "name": "ipython",
    "version": 3
   },
   "file_extension": ".py",
   "mimetype": "text/x-python",
   "name": "python",
   "nbconvert_exporter": "python",
   "pygments_lexer": "ipython3",
   "version": "3.10.4"
  }
 },
 "nbformat": 4,
 "nbformat_minor": 5
}
