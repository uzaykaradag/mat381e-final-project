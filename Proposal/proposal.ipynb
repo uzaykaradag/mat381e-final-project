{
 "cells": [
  {
   "cell_type": "markdown",
   "id": "ed6ec0cf",
   "metadata": {},
   "source": [
    "# Music Recommender System\n",
    "\n",
    "## Team Members\n",
    "\n",
    "1. Muhammed Fatih Kaya\n",
    "2. Hakan İşçi\n",
    "3. Uzay Karadağ\n",
    "\n",
    "## Dataset\n",
    "\n",
    "The [dataset](\"https://www.kaggle.com/datasets/pieca111/music-artists-popularity\") contains data about 1.4 million musical artists; their names, some keywords a.k.a. tags and statistics (listener and play count) concerning their popularity (scraped by the creator of the dataset from [last.fm](last.fm)).\n",
    "\n",
    "\n",
    "## Description of the Problem\n",
    "\n",
    "We will use the dataset to build a model which sufficiently recommends new artists to the user when input 3 artists the user enjoys listening to. The data is well conditioned for this task because the attributes can be used to make relations between discrete artists. When done with the project we would like to present a full-blown applet to the class.\n",
    "\n",
    "## Project Planning\n",
    "\n",
    "First we will start off by acquiring the dataset from Kaggle and will clean and correct the necessary parts. After the data goes through the cleaning process we will further perform preprocessing to make it easier to work with in the following steps.\n",
    "\n",
    "Then explaratory data analysis will be performed on the data which can be broken into two integral pieces of; visualization and the analysis of the data. This will help us make better decisions while doing feauture engineering and model construction.\n",
    "\n",
    "For the last part, we will do a literature review and general research on the topic of recommender systems and go onto feature engineering for the dataset with the now accumulated knowledge about recommender systems. At last, we will construct the model for music recommendation with respect to all our findings. \n",
    "\n",
    "\n",
    "### Project Pieces\n",
    "\n",
    "1. Data Acquisition | Fatih Kaya, Uzay Karadağ\n",
    "2. Data Cleaning and Preprocessing | Fatih Kaya, Uzay Karadağ\n",
    "\n",
    "3. Data Visualization | Hakan İşçi\n",
    "4. Analysis of the Data | Hakan İşçi\n",
    "\n",
    "5. Literature Review, Feature Engineering | Uzay Karadağ, Fatih Kaya\n",
    "6. Model Construction | Uzay Karadağ, Fatih Kaya\n",
    "\n",
    "\n",
    "### Hardware and Software\n",
    "\n",
    "1. Uzay Karadağ: 2017 MacBook Pro | 2,3 GHz Dual-Core Intel Core i5, 8GB RAM\n",
    "2. Fatih Kaya: Monster Abra A5 v15.5 | 2.4 GHz Quad-Core Intel Core i5, 16GB RAM \n",
    "3. Hakan İşçi: ASUS X571CD |  2,6 GHz Six-Core Intel Core i7, 16 GB RAM\n",
    "\n",
    "*Google Colab might be used for GPU and/or TPU computation if needed.*\n",
    "\n",
    "### Calendar\n",
    "1. Data Acquisition, ~0.5 Week\n",
    "2. Data Cleaning and Preprocessing, ~0.5 week \n",
    "3. Data Visualization, ~1 week\n",
    "4. Analysis of the Data, ~1 week\n",
    "5. Literature Review, Feature Engineering, ~1.5 weeks\n",
    "6. Model Construction, ~1.5 week"
   ]
  }
 ],
 "metadata": {
  "kernelspec": {
   "display_name": "Python 3 (ipykernel)",
   "language": "python",
   "name": "python3"
  },
  "language_info": {
   "codemirror_mode": {
    "name": "ipython",
    "version": 3
   },
   "file_extension": ".py",
   "mimetype": "text/x-python",
   "name": "python",
   "nbconvert_exporter": "python",
   "pygments_lexer": "ipython3",
   "version": "3.9.10"
  }
 },
 "nbformat": 4,
 "nbformat_minor": 5
}
