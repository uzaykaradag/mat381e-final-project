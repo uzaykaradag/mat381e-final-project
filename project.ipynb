{
 "cells": [
  {
   "cell_type": "markdown",
   "metadata": {},
   "source": [
    "# Turntable, An Artist Reccomendation System Powered by K-Means\n",
    "\n",
    "This project was developed by Uzay Karadağ, Hakan İşçi and Muhammed Fatih Kaya to be presented as the final project of Intro. to Data Science class given by Prof. Atabey Kaygun at Istanbul Technical University.\n",
    "\n",
    "---\n",
    "#### Getting started, the libraries\n",
    "\n",
    "As all projects developed in the Python ecosystem, this project also relies on the rich and easy-to-use Python modules. We tried to keep the library use in this project minimal and tried to do as much as we can without adding unneccessary code complexity. The **pandas** library was used to present and manipulate the data to our liking. You will notice that the *apply()* method was used heavily for cleaning and further manipulation o the data. Regex was also used briefly to drop punctuation characters from some parts as we learn in the class. matplotlib was used to plot here and there, and finally scikit-learn did the heavy-lifting behind the scenes for us by porviding the K-Means model for our clustering algorithm."
   ]
  },
  {
   "cell_type": "code",
   "execution_count": 40,
   "metadata": {},
   "outputs": [],
   "source": [
    "import pandas as pd\n",
    "\n",
    "import regex as re\n",
    "\n",
    "from matplotlib import pyplot as plt\n",
    "\n",
    "from sklearn.feature_extraction import text\n",
    "from sklearn.feature_extraction.text import TfidfVectorizer\n",
    "from sklearn.cluster import KMeans"
   ]
  },
  {
   "cell_type": "markdown",
   "metadata": {},
   "source": [
    "#### Acquisition of the data\n",
    "\n",
    "We run into some problems here and tried several method before settling to this one. As I recall in the first class of the semester Prof. Kaygun, rightfully, told us that local data is not to be trusted. Since we are using a dataset['https://www.kaggle.com/datasets/pieca111/music-artists-popularity'] from Kaggle, first we used Kaggle API to acquire the data however the API seems to be in the beta stage and it can only download the data locally which means it is the same as downloading the data directly to your computer. We also tried the **opendatasets** library and ran into the exact same problem as it is probably just a Python wrapper for the aforementioned Kaggle API. We agreed upon hosting the data as artists.csv inside our Github repo and pushed it using Git LFS.\n",
    "\n",
    "#### Features of the data, columns\n",
    "\n",
    "First of all we started inspecting the data by checking what features for every artist we get in this particular dataset. As it turns out a unique id from MusicBrainz database(mbid), artist name, country, tags, listener count data from both MusicBrainz and Last.fm are present. After some exploration we decided to use the artist name corresponding tags and listener count. Tags from MusicBrainz database seemed more reliable as last.fm tags contained too much subjectivity and gibberish at places."
   ]
  },
  {
   "cell_type": "code",
   "execution_count": 41,
   "metadata": {},
   "outputs": [
    {
     "data": {
      "text/plain": [
       "Index(['mbid', 'artist_mb', 'artist_lastfm', 'country_mb', 'country_lastfm',\n",
       "       'tags_mb', 'tags_lastfm', 'listeners_lastfm', 'scrobbles_lastfm',\n",
       "       'ambiguous_artist'],\n",
       "      dtype='object')"
      ]
     },
     "execution_count": 41,
     "metadata": {},
     "output_type": "execute_result"
    }
   ],
   "source": [
    "raw = pd.read_csv('artists.csv', low_memory=False)\n",
    "raw.columns"
   ]
  },
  {
   "cell_type": "code",
   "execution_count": 42,
   "metadata": {},
   "outputs": [
    {
     "data": {
      "text/html": [
       "<div>\n",
       "<style scoped>\n",
       "    .dataframe tbody tr th:only-of-type {\n",
       "        vertical-align: middle;\n",
       "    }\n",
       "\n",
       "    .dataframe tbody tr th {\n",
       "        vertical-align: top;\n",
       "    }\n",
       "\n",
       "    .dataframe thead th {\n",
       "        text-align: right;\n",
       "    }\n",
       "</style>\n",
       "<table border=\"1\" class=\"dataframe\">\n",
       "  <thead>\n",
       "    <tr style=\"text-align: right;\">\n",
       "      <th></th>\n",
       "      <th>artist</th>\n",
       "      <th>tags</th>\n",
       "      <th>listeners</th>\n",
       "    </tr>\n",
       "  </thead>\n",
       "  <tbody>\n",
       "    <tr>\n",
       "      <th>0</th>\n",
       "      <td>Coldplay</td>\n",
       "      <td>rock; pop; alternative rock; british; uk; brit...</td>\n",
       "      <td>5381567.0</td>\n",
       "    </tr>\n",
       "    <tr>\n",
       "      <th>1</th>\n",
       "      <td>Radiohead</td>\n",
       "      <td>rock; electronic; alternative rock; british; g...</td>\n",
       "      <td>4732528.0</td>\n",
       "    </tr>\n",
       "    <tr>\n",
       "      <th>2</th>\n",
       "      <td>Red Hot Chili Peppers</td>\n",
       "      <td>rock; alternative rock; 80s; 90s; rap; metal; ...</td>\n",
       "      <td>4620835.0</td>\n",
       "    </tr>\n",
       "    <tr>\n",
       "      <th>3</th>\n",
       "      <td>Rihanna</td>\n",
       "      <td>pop; dance; hip hop; reggae; contemporary r b;...</td>\n",
       "      <td>4558193.0</td>\n",
       "    </tr>\n",
       "    <tr>\n",
       "      <th>4</th>\n",
       "      <td>Eminem</td>\n",
       "      <td>turkish; rap; american; hip-hop; hip hop; hiph...</td>\n",
       "      <td>4517997.0</td>\n",
       "    </tr>\n",
       "    <tr>\n",
       "      <th>...</th>\n",
       "      <td>...</td>\n",
       "      <td>...</td>\n",
       "      <td>...</td>\n",
       "    </tr>\n",
       "    <tr>\n",
       "      <th>1466078</th>\n",
       "      <td>정은지</td>\n",
       "      <td>NaN</td>\n",
       "      <td>NaN</td>\n",
       "    </tr>\n",
       "    <tr>\n",
       "      <th>1466079</th>\n",
       "      <td>남태현</td>\n",
       "      <td>NaN</td>\n",
       "      <td>NaN</td>\n",
       "    </tr>\n",
       "    <tr>\n",
       "      <th>1466080</th>\n",
       "      <td>헤일로</td>\n",
       "      <td>NaN</td>\n",
       "      <td>NaN</td>\n",
       "    </tr>\n",
       "    <tr>\n",
       "      <th>1466081</th>\n",
       "      <td>서현진</td>\n",
       "      <td>NaN</td>\n",
       "      <td>NaN</td>\n",
       "    </tr>\n",
       "    <tr>\n",
       "      <th>1466082</th>\n",
       "      <td>김희철</td>\n",
       "      <td>NaN</td>\n",
       "      <td>NaN</td>\n",
       "    </tr>\n",
       "  </tbody>\n",
       "</table>\n",
       "<p>1466083 rows × 3 columns</p>\n",
       "</div>"
      ],
      "text/plain": [
       "                        artist  \\\n",
       "0                     Coldplay   \n",
       "1                    Radiohead   \n",
       "2        Red Hot Chili Peppers   \n",
       "3                      Rihanna   \n",
       "4                       Eminem   \n",
       "...                        ...   \n",
       "1466078                    정은지   \n",
       "1466079                    남태현   \n",
       "1466080                    헤일로   \n",
       "1466081                    서현진   \n",
       "1466082                    김희철   \n",
       "\n",
       "                                                      tags  listeners  \n",
       "0        rock; pop; alternative rock; british; uk; brit...  5381567.0  \n",
       "1        rock; electronic; alternative rock; british; g...  4732528.0  \n",
       "2        rock; alternative rock; 80s; 90s; rap; metal; ...  4620835.0  \n",
       "3        pop; dance; hip hop; reggae; contemporary r b;...  4558193.0  \n",
       "4        turkish; rap; american; hip-hop; hip hop; hiph...  4517997.0  \n",
       "...                                                    ...        ...  \n",
       "1466078                                                NaN        NaN  \n",
       "1466079                                                NaN        NaN  \n",
       "1466080                                                NaN        NaN  \n",
       "1466081                                                NaN        NaN  \n",
       "1466082                                                NaN        NaN  \n",
       "\n",
       "[1466083 rows x 3 columns]"
      ]
     },
     "execution_count": 42,
     "metadata": {},
     "output_type": "execute_result"
    }
   ],
   "source": [
    "data = pd.DataFrame({'artist': raw['artist_mb'], 'tags': raw['tags_mb'], 'listeners': raw['listeners_lastfm']})\n",
    "data"
   ]
  },
  {
   "cell_type": "markdown",
   "metadata": {},
   "source": [
    "#### Cleaning the data\n",
    "We then deleted the rows with artist names which are non-latin and streamlined the artist cases to lowercase strings."
   ]
  },
  {
   "cell_type": "code",
   "execution_count": 43,
   "metadata": {},
   "outputs": [
    {
     "name": "stderr",
     "output_type": "stream",
     "text": [
      "/var/folders/rm/njky_wt54g94lt5wrw23wsg00000gn/T/ipykernel_747/2625950525.py:4: FutureWarning: In a future version of pandas all arguments of DataFrame.drop except for the argument 'labels' will be keyword-only.\n",
      "  data.drop('isAscii', 1, inplace=True)\n"
     ]
    },
    {
     "data": {
      "text/html": [
       "<div>\n",
       "<style scoped>\n",
       "    .dataframe tbody tr th:only-of-type {\n",
       "        vertical-align: middle;\n",
       "    }\n",
       "\n",
       "    .dataframe tbody tr th {\n",
       "        vertical-align: top;\n",
       "    }\n",
       "\n",
       "    .dataframe thead th {\n",
       "        text-align: right;\n",
       "    }\n",
       "</style>\n",
       "<table border=\"1\" class=\"dataframe\">\n",
       "  <thead>\n",
       "    <tr style=\"text-align: right;\">\n",
       "      <th></th>\n",
       "      <th>artist</th>\n",
       "      <th>tags</th>\n",
       "      <th>listeners</th>\n",
       "    </tr>\n",
       "  </thead>\n",
       "  <tbody>\n",
       "    <tr>\n",
       "      <th>0</th>\n",
       "      <td>coldplay</td>\n",
       "      <td>rock; pop; alternative rock; british; uk; brit...</td>\n",
       "      <td>5381567.0</td>\n",
       "    </tr>\n",
       "    <tr>\n",
       "      <th>1</th>\n",
       "      <td>radiohead</td>\n",
       "      <td>rock; electronic; alternative rock; british; g...</td>\n",
       "      <td>4732528.0</td>\n",
       "    </tr>\n",
       "    <tr>\n",
       "      <th>2</th>\n",
       "      <td>red hot chili peppers</td>\n",
       "      <td>rock; alternative rock; 80s; 90s; rap; metal; ...</td>\n",
       "      <td>4620835.0</td>\n",
       "    </tr>\n",
       "    <tr>\n",
       "      <th>3</th>\n",
       "      <td>rihanna</td>\n",
       "      <td>pop; dance; hip hop; reggae; contemporary r b;...</td>\n",
       "      <td>4558193.0</td>\n",
       "    </tr>\n",
       "    <tr>\n",
       "      <th>4</th>\n",
       "      <td>eminem</td>\n",
       "      <td>turkish; rap; american; hip-hop; hip hop; hiph...</td>\n",
       "      <td>4517997.0</td>\n",
       "    </tr>\n",
       "    <tr>\n",
       "      <th>...</th>\n",
       "      <td>...</td>\n",
       "      <td>...</td>\n",
       "      <td>...</td>\n",
       "    </tr>\n",
       "    <tr>\n",
       "      <th>1466072</th>\n",
       "      <td>misako adjumy sekiguchi</td>\n",
       "      <td>NaN</td>\n",
       "      <td>NaN</td>\n",
       "    </tr>\n",
       "    <tr>\n",
       "      <th>1466073</th>\n",
       "      <td>geeks</td>\n",
       "      <td>NaN</td>\n",
       "      <td>NaN</td>\n",
       "    </tr>\n",
       "    <tr>\n",
       "      <th>1466074</th>\n",
       "      <td>mino</td>\n",
       "      <td>NaN</td>\n",
       "      <td>NaN</td>\n",
       "    </tr>\n",
       "    <tr>\n",
       "      <th>1466075</th>\n",
       "      <td>minho</td>\n",
       "      <td>NaN</td>\n",
       "      <td>NaN</td>\n",
       "    </tr>\n",
       "    <tr>\n",
       "      <th>1466077</th>\n",
       "      <td>stellar</td>\n",
       "      <td>NaN</td>\n",
       "      <td>NaN</td>\n",
       "    </tr>\n",
       "  </tbody>\n",
       "</table>\n",
       "<p>1298657 rows × 3 columns</p>\n",
       "</div>"
      ],
      "text/plain": [
       "                          artist  \\\n",
       "0                       coldplay   \n",
       "1                      radiohead   \n",
       "2          red hot chili peppers   \n",
       "3                        rihanna   \n",
       "4                         eminem   \n",
       "...                          ...   \n",
       "1466072  misako adjumy sekiguchi   \n",
       "1466073                    geeks   \n",
       "1466074                     mino   \n",
       "1466075                    minho   \n",
       "1466077                  stellar   \n",
       "\n",
       "                                                      tags  listeners  \n",
       "0        rock; pop; alternative rock; british; uk; brit...  5381567.0  \n",
       "1        rock; electronic; alternative rock; british; g...  4732528.0  \n",
       "2        rock; alternative rock; 80s; 90s; rap; metal; ...  4620835.0  \n",
       "3        pop; dance; hip hop; reggae; contemporary r b;...  4558193.0  \n",
       "4        turkish; rap; american; hip-hop; hip hop; hiph...  4517997.0  \n",
       "...                                                    ...        ...  \n",
       "1466072                                                NaN        NaN  \n",
       "1466073                                                NaN        NaN  \n",
       "1466074                                                NaN        NaN  \n",
       "1466075                                                NaN        NaN  \n",
       "1466077                                                NaN        NaN  \n",
       "\n",
       "[1298657 rows x 3 columns]"
      ]
     },
     "execution_count": 43,
     "metadata": {},
     "output_type": "execute_result"
    }
   ],
   "source": [
    "data['artist'] = data['artist'].apply(lambda artistName: str(artistName).lower())\n",
    "data['isAscii'] = data['artist'].apply(lambda artistName: str(artistName).isascii())\n",
    "data.drop(data[data['isAscii'] == False].index, inplace=True)\n",
    "data.drop('isAscii', 1, inplace=True)\n",
    "data"
   ]
  },
  {
   "cell_type": "markdown",
   "metadata": {},
   "source": [
    "We are going to vectorize the tags and use them as the fitting data for our K-Means model later on so we won't be able to use the artists with no tags therefore we dropped all the NaN rows."
   ]
  },
  {
   "cell_type": "code",
   "execution_count": 44,
   "metadata": {},
   "outputs": [
    {
     "data": {
      "text/html": [
       "<div>\n",
       "<style scoped>\n",
       "    .dataframe tbody tr th:only-of-type {\n",
       "        vertical-align: middle;\n",
       "    }\n",
       "\n",
       "    .dataframe tbody tr th {\n",
       "        vertical-align: top;\n",
       "    }\n",
       "\n",
       "    .dataframe thead th {\n",
       "        text-align: right;\n",
       "    }\n",
       "</style>\n",
       "<table border=\"1\" class=\"dataframe\">\n",
       "  <thead>\n",
       "    <tr style=\"text-align: right;\">\n",
       "      <th></th>\n",
       "      <th>artist</th>\n",
       "      <th>tags</th>\n",
       "      <th>listeners</th>\n",
       "    </tr>\n",
       "  </thead>\n",
       "  <tbody>\n",
       "    <tr>\n",
       "      <th>0</th>\n",
       "      <td>coldplay</td>\n",
       "      <td>rock; pop; alternative rock; british; uk; brit...</td>\n",
       "      <td>5381567.0</td>\n",
       "    </tr>\n",
       "    <tr>\n",
       "      <th>1</th>\n",
       "      <td>radiohead</td>\n",
       "      <td>rock; electronic; alternative rock; british; g...</td>\n",
       "      <td>4732528.0</td>\n",
       "    </tr>\n",
       "    <tr>\n",
       "      <th>2</th>\n",
       "      <td>red hot chili peppers</td>\n",
       "      <td>rock; alternative rock; 80s; 90s; rap; metal; ...</td>\n",
       "      <td>4620835.0</td>\n",
       "    </tr>\n",
       "    <tr>\n",
       "      <th>3</th>\n",
       "      <td>rihanna</td>\n",
       "      <td>pop; dance; hip hop; reggae; contemporary r b;...</td>\n",
       "      <td>4558193.0</td>\n",
       "    </tr>\n",
       "    <tr>\n",
       "      <th>4</th>\n",
       "      <td>eminem</td>\n",
       "      <td>turkish; rap; american; hip-hop; hip hop; hiph...</td>\n",
       "      <td>4517997.0</td>\n",
       "    </tr>\n",
       "    <tr>\n",
       "      <th>...</th>\n",
       "      <td>...</td>\n",
       "      <td>...</td>\n",
       "      <td>...</td>\n",
       "    </tr>\n",
       "    <tr>\n",
       "      <th>985950</th>\n",
       "      <td>the world heritage</td>\n",
       "      <td>japanese; space rock; avant-prog; likedis auto</td>\n",
       "      <td>0.0</td>\n",
       "    </tr>\n",
       "    <tr>\n",
       "      <th>986010</th>\n",
       "      <td>hal from apollo'69</td>\n",
       "      <td>likedis auto</td>\n",
       "      <td>0.0</td>\n",
       "    </tr>\n",
       "    <tr>\n",
       "      <th>986061</th>\n",
       "      <td>jaermulk manhattan</td>\n",
       "      <td>likedis auto</td>\n",
       "      <td>0.0</td>\n",
       "    </tr>\n",
       "    <tr>\n",
       "      <th>986079</th>\n",
       "      <td>los gatos de japon</td>\n",
       "      <td>likedis auto</td>\n",
       "      <td>0.0</td>\n",
       "    </tr>\n",
       "    <tr>\n",
       "      <th>986316</th>\n",
       "      <td>butterfly girls band</td>\n",
       "      <td>n2</td>\n",
       "      <td>0.0</td>\n",
       "    </tr>\n",
       "  </tbody>\n",
       "</table>\n",
       "<p>87021 rows × 3 columns</p>\n",
       "</div>"
      ],
      "text/plain": [
       "                       artist  \\\n",
       "0                    coldplay   \n",
       "1                   radiohead   \n",
       "2       red hot chili peppers   \n",
       "3                     rihanna   \n",
       "4                      eminem   \n",
       "...                       ...   \n",
       "985950     the world heritage   \n",
       "986010     hal from apollo'69   \n",
       "986061     jaermulk manhattan   \n",
       "986079     los gatos de japon   \n",
       "986316   butterfly girls band   \n",
       "\n",
       "                                                     tags  listeners  \n",
       "0       rock; pop; alternative rock; british; uk; brit...  5381567.0  \n",
       "1       rock; electronic; alternative rock; british; g...  4732528.0  \n",
       "2       rock; alternative rock; 80s; 90s; rap; metal; ...  4620835.0  \n",
       "3       pop; dance; hip hop; reggae; contemporary r b;...  4558193.0  \n",
       "4       turkish; rap; american; hip-hop; hip hop; hiph...  4517997.0  \n",
       "...                                                   ...        ...  \n",
       "985950     japanese; space rock; avant-prog; likedis auto        0.0  \n",
       "986010                                       likedis auto        0.0  \n",
       "986061                                       likedis auto        0.0  \n",
       "986079                                       likedis auto        0.0  \n",
       "986316                                                 n2        0.0  \n",
       "\n",
       "[87021 rows x 3 columns]"
      ]
     },
     "execution_count": 44,
     "metadata": {},
     "output_type": "execute_result"
    }
   ],
   "source": [
    "data.dropna(inplace=True)\n",
    "data"
   ]
  },
  {
   "cell_type": "markdown",
   "metadata": {},
   "source": [
    "As the final step in our data cleaning process we dropped all artists who have less than 10000 listeners. As much as I am for small artists, their tags are quite horrid to put into a machine learning model therefore it's better to let them go. Then we removed all punctuation from the tag lists such as ';' as our vectorizer won't be liking the use of punctuation. This can be summarized as tokenizing the tags altogether."
   ]
  },
  {
   "cell_type": "code",
   "execution_count": 45,
   "metadata": {},
   "outputs": [
    {
     "data": {
      "text/html": [
       "<div>\n",
       "<style scoped>\n",
       "    .dataframe tbody tr th:only-of-type {\n",
       "        vertical-align: middle;\n",
       "    }\n",
       "\n",
       "    .dataframe tbody tr th {\n",
       "        vertical-align: top;\n",
       "    }\n",
       "\n",
       "    .dataframe thead th {\n",
       "        text-align: right;\n",
       "    }\n",
       "</style>\n",
       "<table border=\"1\" class=\"dataframe\">\n",
       "  <thead>\n",
       "    <tr style=\"text-align: right;\">\n",
       "      <th></th>\n",
       "      <th>artist</th>\n",
       "      <th>tags</th>\n",
       "      <th>listeners</th>\n",
       "    </tr>\n",
       "  </thead>\n",
       "  <tbody>\n",
       "    <tr>\n",
       "      <th>0</th>\n",
       "      <td>coldplay</td>\n",
       "      <td>rock pop alternative rock british uk britanniq...</td>\n",
       "      <td>5381567.0</td>\n",
       "    </tr>\n",
       "    <tr>\n",
       "      <th>1</th>\n",
       "      <td>radiohead</td>\n",
       "      <td>rock electronic alternative rock british grung...</td>\n",
       "      <td>4732528.0</td>\n",
       "    </tr>\n",
       "    <tr>\n",
       "      <th>2</th>\n",
       "      <td>red hot chili peppers</td>\n",
       "      <td>rock alternative rock 80s 90s rap metal americ...</td>\n",
       "      <td>4620835.0</td>\n",
       "    </tr>\n",
       "    <tr>\n",
       "      <th>3</th>\n",
       "      <td>rihanna</td>\n",
       "      <td>pop dance hip hop reggae contemporary r b elec...</td>\n",
       "      <td>4558193.0</td>\n",
       "    </tr>\n",
       "    <tr>\n",
       "      <th>4</th>\n",
       "      <td>eminem</td>\n",
       "      <td>turkish rap american hiphop hip hop hiphop mid...</td>\n",
       "      <td>4517997.0</td>\n",
       "    </tr>\n",
       "    <tr>\n",
       "      <th>...</th>\n",
       "      <td>...</td>\n",
       "      <td>...</td>\n",
       "      <td>...</td>\n",
       "    </tr>\n",
       "    <tr>\n",
       "      <th>68696</th>\n",
       "      <td>beastcraft</td>\n",
       "      <td>black metal</td>\n",
       "      <td>10009.0</td>\n",
       "    </tr>\n",
       "    <tr>\n",
       "      <th>68697</th>\n",
       "      <td>jaime torres</td>\n",
       "      <td>argentine</td>\n",
       "      <td>10009.0</td>\n",
       "    </tr>\n",
       "    <tr>\n",
       "      <th>68718</th>\n",
       "      <td>quatermass</td>\n",
       "      <td>british uk english</td>\n",
       "      <td>10003.0</td>\n",
       "    </tr>\n",
       "    <tr>\n",
       "      <th>68726</th>\n",
       "      <td>noitalinna huraa!</td>\n",
       "      <td>rock pop</td>\n",
       "      <td>10002.0</td>\n",
       "    </tr>\n",
       "    <tr>\n",
       "      <th>68732</th>\n",
       "      <td>caterina barbieri</td>\n",
       "      <td>italian musician drone progressive electronic</td>\n",
       "      <td>10000.0</td>\n",
       "    </tr>\n",
       "  </tbody>\n",
       "</table>\n",
       "<p>22158 rows × 3 columns</p>\n",
       "</div>"
      ],
      "text/plain": [
       "                      artist  \\\n",
       "0                   coldplay   \n",
       "1                  radiohead   \n",
       "2      red hot chili peppers   \n",
       "3                    rihanna   \n",
       "4                     eminem   \n",
       "...                      ...   \n",
       "68696             beastcraft   \n",
       "68697           jaime torres   \n",
       "68718             quatermass   \n",
       "68726      noitalinna huraa!   \n",
       "68732      caterina barbieri   \n",
       "\n",
       "                                                    tags  listeners  \n",
       "0      rock pop alternative rock british uk britanniq...  5381567.0  \n",
       "1      rock electronic alternative rock british grung...  4732528.0  \n",
       "2      rock alternative rock 80s 90s rap metal americ...  4620835.0  \n",
       "3      pop dance hip hop reggae contemporary r b elec...  4558193.0  \n",
       "4      turkish rap american hiphop hip hop hiphop mid...  4517997.0  \n",
       "...                                                  ...        ...  \n",
       "68696                                        black metal    10009.0  \n",
       "68697                                          argentine    10009.0  \n",
       "68718                                 british uk english    10003.0  \n",
       "68726                                           rock pop    10002.0  \n",
       "68732      italian musician drone progressive electronic    10000.0  \n",
       "\n",
       "[22158 rows x 3 columns]"
      ]
     },
     "execution_count": 45,
     "metadata": {},
     "output_type": "execute_result"
    }
   ],
   "source": [
    "data.drop(data[data['listeners'] < 10000.0].index, inplace=True)\n",
    "tags_new = data['tags'].apply(lambda tagsStr: re.sub(r'[^\\w\\s]', '', tagsStr))\n",
    "data['tags'] = tags_new\n",
    "data"
   ]
  },
  {
   "cell_type": "markdown",
   "metadata": {},
   "source": [
    "#### Studying the distribution of the number of tags\n",
    "\n",
    "Out of curiosity I decided to check how the number of tags were distributed among the data for individual artists. It turns out the distribution resembles a chi-square one. I decided drop artists with tag count less than 3 to make the model more accurate."
   ]
  },
  {
   "cell_type": "code",
   "execution_count": 46,
   "metadata": {},
   "outputs": [
    {
     "data": {
      "text/plain": [
       "<AxesSubplot:>"
      ]
     },
     "execution_count": 46,
     "metadata": {},
     "output_type": "execute_result"
    },
    {
     "data": {
      "image/png": "[encoded data removed]",
      "text/plain": [
       "<Figure size 1152x576 with 1 Axes>"
      ]
     },
     "metadata": {
      "needs_background": "light"
     },
     "output_type": "display_data"
    }
   ],
   "source": [
    "tag_count = data['tags'].apply(lambda tagsStr: tagsStr.count(' ') + 1.0)\n",
    "tag_count.plot(figsize=[16, 8])"
   ]
  },
  {
   "cell_type": "code",
   "execution_count": 47,
   "metadata": {},
   "outputs": [
    {
     "data": {
      "text/plain": [
       "5.0933297228991785"
      ]
     },
     "execution_count": 47,
     "metadata": {},
     "output_type": "execute_result"
    }
   ],
   "source": [
    "tag_count.mean()"
   ]
  },
  {
   "cell_type": "code",
   "execution_count": 48,
   "metadata": {},
   "outputs": [
    {
     "name": "stdout",
     "output_type": "stream",
     "text": [
      "7.2494772514240395\n"
     ]
    }
   ],
   "source": [
    "data['tag_count'] = tag_count\n",
    "data.drop(data[data['tag_count'] < 3].index, inplace=True)\n",
    "print(data['tag_count'].mean())\n",
    "data.drop('tag_count', axis=1, inplace=True)"
   ]
  },
  {
   "cell_type": "markdown",
   "metadata": {},
   "source": [
    "#### The fun part, vectorizing the tags and building the K-Means model\n",
    "I'm going to be honest I am practically a beginner when it comes to machine learning so this part was mainly built using the age-old trial and error method and I still think anyone who understands machine learning would not be amused by the job I've done. After putting in hours of work and getting too deep I researched better ways to validate if the data was fit for clustering and the result was not really pleasant. The following *k vs Distortion* graph follows a linearly decreasing trend which probably means the tags are not really fit to use for a clustering algorithm. I researched tons of other algorithms and datasets to build a similar project but this was the best pair I could come up with. I hope it is sufficient even though it's not optimal.\n",
    "\n",
    "I used the TF-IDF vectorizer which is the combination of the CountVectorizer and TF-IDF Transformer, after research and trial this was the vectorizer which birthed the best results.\n",
    "\n",
    "Then I calculated distortion for all k-values between 1 and 20 even though not perfect k=8 seemed to have a higher slope compared to other k values, so I went with k=8.\n",
    "\n",
    "I built the 8-means model with max iteration count of 100 and initial n of 10. Then I fit the vectorized tag data to the model and added the output clusters to my dataframe."
   ]
  },
  {
   "cell_type": "code",
   "execution_count": 49,
   "metadata": {},
   "outputs": [],
   "source": [
    "vectorizer = TfidfVectorizer(stop_words='english')\n",
    "X = vectorizer.fit_transform(data['tags'])"
   ]
  },
  {
   "cell_type": "code",
   "execution_count": 50,
   "metadata": {},
   "outputs": [],
   "source": [
    "distortions = []\n",
    "for k in range(1, 20):\n",
    "    kmeans = KMeans(n_clusters=k, init='k-means++', max_iter=200, n_init=10)\n",
    "    kmeans.fit(X)\n",
    "    distortions.append(kmeans.inertia_)"
   ]
  },
  {
   "cell_type": "code",
   "execution_count": 51,
   "metadata": {},
   "outputs": [
    {
     "data": {
      "image/png": "[encoded data removed]",
      "text/plain": [
       "<Figure size 1152x576 with 1 Axes>"
      ]
     },
     "metadata": {
      "needs_background": "light"
     },
     "output_type": "display_data"
    }
   ],
   "source": [
    "plt.figure(figsize=(16,8))\n",
    "plt.plot(range(1, 20), distortions, 'bx-')\n",
    "plt.xlabel('k')\n",
    "plt.ylabel('Distortion')\n",
    "plt.title('k vs Distortion')\n",
    "plt.show()"
   ]
  },
  {
   "cell_type": "code",
   "execution_count": 52,
   "metadata": {},
   "outputs": [],
   "source": [
    "optimal_k = 8\n",
    "model = KMeans(n_clusters=optimal_k, init='k-means++', max_iter=200, n_init=10)\n",
    "model.fit(X)\n",
    "data['cluster'] = pd.DataFrame(model.labels_)\n",
    "data.dropna(inplace=True)"
   ]
  },
  {
   "cell_type": "code",
   "execution_count": 53,
   "metadata": {},
   "outputs": [
    {
     "data": {
      "text/html": [
       "<div>\n",
       "<style scoped>\n",
       "    .dataframe tbody tr th:only-of-type {\n",
       "        vertical-align: middle;\n",
       "    }\n",
       "\n",
       "    .dataframe tbody tr th {\n",
       "        vertical-align: top;\n",
       "    }\n",
       "\n",
       "    .dataframe thead th {\n",
       "        text-align: right;\n",
       "    }\n",
       "</style>\n",
       "<table border=\"1\" class=\"dataframe\">\n",
       "  <thead>\n",
       "    <tr style=\"text-align: right;\">\n",
       "      <th></th>\n",
       "      <th>artist</th>\n",
       "      <th>tags</th>\n",
       "      <th>listeners</th>\n",
       "    </tr>\n",
       "    <tr>\n",
       "      <th>cluster</th>\n",
       "      <th></th>\n",
       "      <th></th>\n",
       "      <th></th>\n",
       "    </tr>\n",
       "  </thead>\n",
       "  <tbody>\n",
       "    <tr>\n",
       "      <th>0.0</th>\n",
       "      <td>2702</td>\n",
       "      <td>2702</td>\n",
       "      <td>2702</td>\n",
       "    </tr>\n",
       "    <tr>\n",
       "      <th>1.0</th>\n",
       "      <td>491</td>\n",
       "      <td>491</td>\n",
       "      <td>491</td>\n",
       "    </tr>\n",
       "    <tr>\n",
       "      <th>2.0</th>\n",
       "      <td>867</td>\n",
       "      <td>867</td>\n",
       "      <td>867</td>\n",
       "    </tr>\n",
       "    <tr>\n",
       "      <th>3.0</th>\n",
       "      <td>534</td>\n",
       "      <td>534</td>\n",
       "      <td>534</td>\n",
       "    </tr>\n",
       "    <tr>\n",
       "      <th>4.0</th>\n",
       "      <td>422</td>\n",
       "      <td>422</td>\n",
       "      <td>422</td>\n",
       "    </tr>\n",
       "    <tr>\n",
       "      <th>5.0</th>\n",
       "      <td>258</td>\n",
       "      <td>258</td>\n",
       "      <td>258</td>\n",
       "    </tr>\n",
       "    <tr>\n",
       "      <th>6.0</th>\n",
       "      <td>606</td>\n",
       "      <td>606</td>\n",
       "      <td>606</td>\n",
       "    </tr>\n",
       "    <tr>\n",
       "      <th>7.0</th>\n",
       "      <td>437</td>\n",
       "      <td>437</td>\n",
       "      <td>437</td>\n",
       "    </tr>\n",
       "  </tbody>\n",
       "</table>\n",
       "</div>"
      ],
      "text/plain": [
       "         artist  tags  listeners\n",
       "cluster                         \n",
       "0.0        2702  2702       2702\n",
       "1.0         491   491        491\n",
       "2.0         867   867        867\n",
       "3.0         534   534        534\n",
       "4.0         422   422        422\n",
       "5.0         258   258        258\n",
       "6.0         606   606        606\n",
       "7.0         437   437        437"
      ]
     },
     "execution_count": 53,
     "metadata": {},
     "output_type": "execute_result"
    }
   ],
   "source": [
    "data.groupby('cluster').count()"
   ]
  },
  {
   "cell_type": "markdown",
   "metadata": {},
   "source": [
    "#### Final, some artist recommendations from me and the model\n",
    "Here I wrote a custom function that selects and returns 5 artists from the same cluster with the input artist which have the least amount of difference of listeners with said artist. I tried the function on some of my favorite artists across various genres, the results were quite acceptable."
   ]
  },
  {
   "cell_type": "code",
   "execution_count": 54,
   "metadata": {},
   "outputs": [],
   "source": [
    "def recommendArtist(artistName):\n",
    "    artist = data.loc[data['artist'] == artistName.lower()]\n",
    "    artist_listeners = artist.listeners.values[0]\n",
    "    data['listener_diff'] = data['listeners'].apply(lambda count: abs(count - artist_listeners))\n",
    "    c = artist.cluster.values[0]\n",
    "    cluster  = data.loc[data['cluster'] == c]\n",
    "    recDf = cluster.nsmallest(n = 6, columns='listener_diff')[1:6]\n",
    "    recList = list(recDf['artist'])\n",
    "    return recList"
   ]
  },
  {
   "cell_type": "code",
   "execution_count": 55,
   "metadata": {},
   "outputs": [
    {
     "data": {
      "text/plain": [
       "['ice cube',\n",
       " 'the fratellis',\n",
       " 'electric light orchestra',\n",
       " 'lifehouse',\n",
       " 'garbage']"
      ]
     },
     "execution_count": 55,
     "metadata": {},
     "output_type": "execute_result"
    }
   ],
   "source": [
    "recommendArtist('aphex twin')"
   ]
  },
  {
   "cell_type": "code",
   "execution_count": 56,
   "metadata": {},
   "outputs": [
    {
     "data": {
      "text/plain": [
       "['eminem', 'kings of leon', 'david bowie', 'franz ferdinand', 'depeche mode']"
      ]
     },
     "execution_count": 56,
     "metadata": {},
     "output_type": "execute_result"
    }
   ],
   "source": [
    "recommendArtist('kanye west')"
   ]
  },
  {
   "cell_type": "code",
   "execution_count": 57,
   "metadata": {},
   "outputs": [
    {
     "data": {
      "text/plain": [
       "['carla bruni', 'jason aldean', 'relient k', 'sugar ray', 'sevendust']"
      ]
     },
     "execution_count": 57,
     "metadata": {},
     "output_type": "execute_result"
    }
   ],
   "source": [
    "recommendArtist('charles mingus')"
   ]
  },
  {
   "cell_type": "code",
   "execution_count": 58,
   "metadata": {},
   "outputs": [
    {
     "data": {
      "text/plain": [
       "['everything but the girl',\n",
       " 'danny elfman',\n",
       " 'yeasayer',\n",
       " 'the bangles',\n",
       " 'johannes brahms']"
      ]
     },
     "execution_count": 58,
     "metadata": {},
     "output_type": "execute_result"
    }
   ],
   "source": [
    "recommendArtist('burial')"
   ]
  },
  {
   "cell_type": "code",
   "execution_count": 59,
   "metadata": {},
   "outputs": [
    {
     "data": {
      "text/plain": [
       "['the fall', 'darius rucker', 'angie stone', 'saxon', 'beatsteaks']"
      ]
     },
     "execution_count": 59,
     "metadata": {},
     "output_type": "execute_result"
    }
   ],
   "source": [
    "recommendArtist('madlib')"
   ]
  },
  {
   "cell_type": "code",
   "execution_count": 60,
   "metadata": {},
   "outputs": [
    {
     "data": {
      "text/plain": [
       "['red hot chili peppers', 'the killers', 'nirvana', 'muse', 'coldplay']"
      ]
     },
     "execution_count": 60,
     "metadata": {},
     "output_type": "execute_result"
    }
   ],
   "source": [
    "recommendArtist('radiohead')"
   ]
  },
  {
   "cell_type": "code",
   "execution_count": 61,
   "metadata": {},
   "outputs": [
    {
     "ename": "ModuleNotFoundError",
     "evalue": "No module named '_tkinter'",
     "output_type": "error",
     "traceback": [
      "\u001b[0;31m---------------------------------------------------------------------------\u001b[0m",
      "\u001b[0;31mModuleNotFoundError\u001b[0m                       Traceback (most recent call last)",
      "\u001b[1;32m/Users/uzay/Developer/mat381e-final-project/project.ipynb Cell 30'\u001b[0m in \u001b[0;36m<cell line: 1>\u001b[0;34m()\u001b[0m\n\u001b[0;32m----> <a href='vscode-notebook-cell:/Users/uzay/Developer/mat381e-final-project/project.ipynb#ch0000030?line=0'>1</a>\u001b[0m \u001b[39mfrom\u001b[39;00m \u001b[39mtkinter\u001b[39;00m \u001b[39mimport\u001b[39;00m \u001b[39m*\u001b[39m\n\u001b[1;32m      <a href='vscode-notebook-cell:/Users/uzay/Developer/mat381e-final-project/project.ipynb#ch0000030?line=1'>2</a>\u001b[0m \u001b[39mimport\u001b[39;00m \u001b[39mtkinter\u001b[39;00m\u001b[39m.\u001b[39;00m\u001b[39mfont\u001b[39;00m \u001b[39mas\u001b[39;00m \u001b[39mtkFont\u001b[39;00m\n\u001b[1;32m      <a href='vscode-notebook-cell:/Users/uzay/Developer/mat381e-final-project/project.ipynb#ch0000030?line=3'>4</a>\u001b[0m tk \u001b[39m=\u001b[39m Tk()\n",
      "File \u001b[0;32m/usr/local/Cellar/python@3.9/3.9.12/Frameworks/Python.framework/Versions/3.9/lib/python3.9/tkinter/__init__.py:37\u001b[0m, in \u001b[0;36m<module>\u001b[0;34m\u001b[0m\n\u001b[1;32m     <a href='file:///usr/local/Cellar/python%403.9/3.9.12/Frameworks/Python.framework/Versions/3.9/lib/python3.9/tkinter/__init__.py?line=33'>34</a>\u001b[0m \u001b[39mimport\u001b[39;00m \u001b[39msys\u001b[39;00m\n\u001b[1;32m     <a href='file:///usr/local/Cellar/python%403.9/3.9.12/Frameworks/Python.framework/Versions/3.9/lib/python3.9/tkinter/__init__.py?line=34'>35</a>\u001b[0m \u001b[39mimport\u001b[39;00m \u001b[39mtypes\u001b[39;00m\n\u001b[0;32m---> <a href='file:///usr/local/Cellar/python%403.9/3.9.12/Frameworks/Python.framework/Versions/3.9/lib/python3.9/tkinter/__init__.py?line=36'>37</a>\u001b[0m \u001b[39mimport\u001b[39;00m \u001b[39m_tkinter\u001b[39;00m \u001b[39m# If this fails your Python may not be configured for Tk\u001b[39;00m\n\u001b[1;32m     <a href='file:///usr/local/Cellar/python%403.9/3.9.12/Frameworks/Python.framework/Versions/3.9/lib/python3.9/tkinter/__init__.py?line=37'>38</a>\u001b[0m TclError \u001b[39m=\u001b[39m _tkinter\u001b[39m.\u001b[39mTclError\n\u001b[1;32m     <a href='file:///usr/local/Cellar/python%403.9/3.9.12/Frameworks/Python.framework/Versions/3.9/lib/python3.9/tkinter/__init__.py?line=38'>39</a>\u001b[0m \u001b[39mfrom\u001b[39;00m \u001b[39mtkinter\u001b[39;00m\u001b[39m.\u001b[39;00m\u001b[39mconstants\u001b[39;00m \u001b[39mimport\u001b[39;00m \u001b[39m*\u001b[39m\n",
      "\u001b[0;31mModuleNotFoundError\u001b[0m: No module named '_tkinter'"
     ]
    }
   ],
   "source": [
    "from tkinter import *\n",
    "import tkinter.font as tkFont\n",
    "\n",
    "tk = Tk()\n",
    "tk.title(\"Artist Recommendation System\" )\n",
    "tk.geometry(\"400x300\")\n",
    "\n",
    "def buton():\n",
    "        lbl[\"text\"] = f\"\\n{recommendArtist(entry.get())[0]}\\n\\n{recommendArtist(entry.get())[1]}\\n\\n{recommendArtist(entry.get())[2]}\\n\\n{recommendArtist(entry.get())[3]}\\n\\n{recommendArtist(entry.get())[4]}\\n\"\n",
    "\n",
    "lbl = Label(tk,text=\"Your Favourite Artist\",font=('Times New Roman',15,'bold'),foreground=\"blue\")\n",
    "lbl.pack()\n",
    "\n",
    "entry = Entry(tk, width=30)\n",
    "entry.pack()\n",
    "\n",
    "btn = Button(tk,\n",
    "            text=\"Recommend\",\n",
    "            padx=\"40\",pady=\"5\",\n",
    "            command=buton)\n",
    "btn.pack()\n",
    "\n",
    "lbl = Label(tk)\n",
    "lbl.pack()\n",
    "\n",
    "tk.mainloop()"
   ]
  },
  {
   "cell_type": "markdown",
   "metadata": {},
   "source": [
    "#### Thank you to Professor Kaygun\n",
    "Throughout this class I have learned a whole lot about using data in a meaningful way. The selection of data and the questions in the homework's made it a joy to do classwork. There were several moments where I fell back in love with coding while doing the homeworks. Thank you for showing us what it is to be an ITU student."
   ]
  }
 ],
 "metadata": {
  "interpreter": {
   "hash": "aee8b7b246df8f9039afb4144a1f6fd8d2ca17a180786b69acc140d282b71a49"
  },
  "kernelspec": {
   "display_name": "Python 3.9.12 64-bit",
   "language": "python",
   "name": "python3"
  },
  "language_info": {
   "codemirror_mode": {
    "name": "ipython",
    "version": 3
   },
   "file_extension": ".py",
   "mimetype": "text/x-python",
   "name": "python",
   "nbconvert_exporter": "python",
   "pygments_lexer": "ipython3",
   "version": "3.9.12"
  },
  "orig_nbformat": 4
 },
 "nbformat": 4,
 "nbformat_minor": 2
}
